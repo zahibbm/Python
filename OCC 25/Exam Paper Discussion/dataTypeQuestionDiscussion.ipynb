{
 "cells": [
  {
   "cell_type": "markdown",
   "metadata": {},
   "source": [
    "Question 01\n",
    "C = 'Sri Lanka' எனின் கீளுள்ள பெறுமதிகளை திரும்பலடையச் செய்யக்கூடிய Python குறிமுறையினை தருக.\n",
    "\n",
    "i) 'SRI'   (4 Marks)            ii) 'lanka' (4 Marks)           iii) 'SRI lanka'  (8 Marks)"
   ]
  },
  {
   "cell_type": "code",
   "execution_count": 7,
   "metadata": {},
   "outputs": [
    {
     "name": "stdout",
     "output_type": "stream",
     "text": [
      "SRI\n",
      "lanka\n",
      "SRI lanka\n"
     ]
    }
   ],
   "source": [
    "# Answers for Question 01\n",
    "C = 'Sri Lanka'\n",
    "print(C[:3].upper()) # 'SRI'\n",
    "print(C[4:].lower()) # 'lanka'\n",
    "print(C[:4].upper()+C[4:].lower()) # 'SRI lanka'"
   ]
  },
  {
   "cell_type": "markdown",
   "metadata": {},
   "source": [
    "Question 02\n",
    "dob =  '12/12/2012' வழங்கப்பட்டுள்ளது. இதிலிருந்து மாதம், திகதி, வருடம் ஆகியவற்றினை தனித்தனியே காட்சிப்டுத்தவேண்டியுள்ளது. இதற்காக Slicing ஐ பிரயோகிக்காமல் Python குறிமுறை ஒன்றினை எழுதுக. (10 Marks)"
   ]
  },
  {
   "cell_type": "code",
   "execution_count": 8,
   "metadata": {},
   "outputs": [
    {
     "name": "stdout",
     "output_type": "stream",
     "text": [
      "12\n",
      "12\n",
      "2012\n"
     ]
    }
   ],
   "source": [
    "# Answers for Question 02\n",
    "dob =  '12/12/2012'\n",
    "dob=dob.split('/') # ['12','12','2012']\n",
    "print(dob[0]) # month\n",
    "print(dob[1]) # day\n",
    "print(dob[2]) # year"
   ]
  },
  {
   "cell_type": "markdown",
   "metadata": {},
   "source": [
    "Question 03\n",
    "a = '123' என வழங்கப்பட்டு பின்னர் a[0] = 9 என மாற்றும் போது நிகழும் செயற்பாட்டினை சுருக்கமாக விளக்குக. (6 Marks)"
   ]
  },
  {
   "cell_type": "code",
   "execution_count": 9,
   "metadata": {},
   "outputs": [
    {
     "ename": "TypeError",
     "evalue": "'str' object does not support item assignment",
     "output_type": "error",
     "traceback": [
      "\u001b[1;31m---------------------------------------------------------------------------\u001b[0m",
      "\u001b[1;31mTypeError\u001b[0m                                 Traceback (most recent call last)",
      "Cell \u001b[1;32mIn[9], line 3\u001b[0m\n\u001b[0;32m      1\u001b[0m \u001b[38;5;66;03m# Question 03\u001b[39;00m\n\u001b[0;32m      2\u001b[0m a \u001b[38;5;241m=\u001b[39m \u001b[38;5;124m'\u001b[39m\u001b[38;5;124m123\u001b[39m\u001b[38;5;124m'\u001b[39m\n\u001b[1;32m----> 3\u001b[0m \u001b[43ma\u001b[49m\u001b[43m[\u001b[49m\u001b[38;5;241;43m0\u001b[39;49m\u001b[43m]\u001b[49m \u001b[38;5;241m=\u001b[39m \u001b[38;5;241m9\u001b[39m\n",
      "\u001b[1;31mTypeError\u001b[0m: 'str' object does not support item assignment"
     ]
    }
   ],
   "source": [
    "# Question 03\n",
    "a = '123'\n",
    "a[0] = 9"
   ]
  },
  {
   "cell_type": "markdown",
   "metadata": {},
   "source": [
    "Question 04\n",
    "உமக்குத் தெரிந்த String தரவினுடைய சார்புகள் 5 இனை ' iTechMi ' எனும் String ன் துணையுடன் விளக்குக. (20 Marks)"
   ]
  },
  {
   "cell_type": "code",
   "execution_count": 10,
   "metadata": {},
   "outputs": [
    {
     "name": "stdout",
     "output_type": "stream",
     "text": [
      "upper:  [' ITECHMI ']\n",
      "lower:  [' itechmi ']\n",
      "swapcase:  [' ItECHmI ']\n",
      "title:  [' Itechmi ']\n",
      "capitalize:  [' itechmi ']\n",
      "strip:  ['iTechMi']\n",
      "lstrip:  ['iTechMi ']\n",
      "rstrip:  [' iTechMi']\n",
      "split:  [' iT', 'chMi ']\n",
      "find:  3\n",
      "index:  3\n"
     ]
    }
   ],
   "source": [
    "# Question 04\n",
    "print('upper: ',[' iTechMi '.upper()])\n",
    "print('lower: ',[' iTechMi '.lower()])\n",
    "print('swapcase: ',[' iTechMi '.swapcase()])\n",
    "print('title: ',[' iTechMi '.title()])\n",
    "print('capitalize: ',[' iTechMi '.capitalize()])\n",
    "print('strip: ',[' iTechMi '.strip()])\n",
    "print('lstrip: ',[' iTechMi '.lstrip()])\n",
    "print('rstrip: ',[' iTechMi '.rstrip()])\n",
    "print('split: ',' iTechMi '.split('e'))\n",
    "print('find: ',' iTechMi '.find('e'))\n",
    "print('index: ',' iTechMi '.index('e'))"
   ]
  },
  {
   "cell_type": "markdown",
   "metadata": {},
   "source": [
    "Question 06\n",
    "ஓர் மாணவனுடைய தனிப்பட்ட விபரங்களை சேகரிப்பதற்காக இரு மாறிகளை உருவாக்கவேண்டியுள்ளது. \n",
    "அவற்றில் ஒன்று List மற்றையது Dictionary எனின் அது எவ்வாறு உருவாக்கப்படலாம்? \n",
    "( தரவுகளை உள்ளடக்கவேண்யதில்லை ) (6 Marks)"
   ]
  },
  {
   "cell_type": "code",
   "execution_count": 11,
   "metadata": {},
   "outputs": [],
   "source": [
    "#Question 06\n",
    "stuList=[]\n",
    "stuDict={}"
   ]
  },
  {
   "cell_type": "markdown",
   "metadata": {},
   "source": [
    "Question 07\n",
    "மேலே வினா 6) ல் நீர் உருவாக்கிய ஒவ்வோர் மாறிக்கும்; கீழே தரப்பட்டுள்ள மாணவனின் தரவுகளை சேர்ப்பதற்குறிய\n",
    "குறிமுறையினை எழுதுக.\n",
    "        Name = Sujaith   |   School = OCC   |   Grade = 12   |   Town = Batticaloa   |   Phone = 0701234567\n",
    "(15 Marks)"
   ]
  },
  {
   "cell_type": "code",
   "execution_count": 12,
   "metadata": {},
   "outputs": [
    {
     "name": "stdout",
     "output_type": "stream",
     "text": [
      "['Sujaith', 'OCC', '12', 'Batticaloa', '0701234567']\n"
     ]
    }
   ],
   "source": [
    "#Question 07\n",
    "# list\n",
    "stuList.append('Sujaith')\n",
    "stuList.append('OCC')\n",
    "stuList.append('12')\n",
    "stuList.append('Batticaloa')\n",
    "stuList.append('0701234567')\n",
    "print(stuList)"
   ]
  },
  {
   "cell_type": "code",
   "execution_count": 13,
   "metadata": {},
   "outputs": [
    {
     "name": "stdout",
     "output_type": "stream",
     "text": [
      "{'Name': 'Sujaith', 'School': 'OCC', 'Grade': '12', 'Town': 'Batticaloa', 'Phone': '0701234567'}\n"
     ]
    }
   ],
   "source": [
    "#Question 07\n",
    "stuDict.update({'Name':'Sujaith'})\n",
    "stuDict.update({'School':'OCC'})\n",
    "stuDict.update({'Grade':'12'})\n",
    "stuDict.update({'Town':'Batticaloa'})\n",
    "stuDict.update({'Phone':'0701234567'})\n",
    "print(stuDict)"
   ]
  },
  {
   "cell_type": "markdown",
   "metadata": {},
   "source": [
    "Question 09\n",
    "மேலே வினா 6) ல் உருவாக்கி மாற்றத்திற்குட்படுத்தப்பட்ட மாறிகளை Python செய்நிரலிருந்து நீக்குவதற்காக \n",
    "குறிமுறையினை எழுதுக. (6 Marks)"
   ]
  },
  {
   "cell_type": "code",
   "execution_count": null,
   "metadata": {},
   "outputs": [],
   "source": [
    "# Question 09\n",
    "del stuList    # list\n",
    "del stuDict    # dict"
   ]
  },
  {
   "cell_type": "markdown",
   "metadata": {},
   "source": [
    "Question 10\n",
    "கீழே வரைவிலக்கணப்படுத்தப்படும் மாறிகள் ஒவ்வொன்றினதும் தரவுவகைகளை அவற்றிற்கு நேரே எழுதுக. (10 Marks)\n",
    "a) n1 = [1,2,3,4,5,[44,3,5]][4],\n",
    "b) x = {1,2,3}\n",
    "c) y = (1) \n",
    "d) z = {1},{2}\n",
    "e) n1 = [1,2,3,5,4,['welcome'],{},'hello',9][5]"
   ]
  },
  {
   "cell_type": "code",
   "execution_count": 14,
   "metadata": {},
   "outputs": [
    {
     "name": "stdout",
     "output_type": "stream",
     "text": [
      "n1 = (5,) <class 'tuple'>\n",
      "x = {1, 2, 3} <class 'set'>\n",
      "y = 1 <class 'int'>\n",
      "z = ({1}, {2}) <class 'tuple'>\n",
      "n1 = ['welcome'] <class 'list'>\n"
     ]
    }
   ],
   "source": [
    "# Question 10\n",
    "n1 = [1,2,3,4,5,[44,3,5]][4],\n",
    "print('n1 =',n1,type(n1))\n",
    "\n",
    "x = {1,2,3}\n",
    "print('x =',x,type(x))\n",
    "\n",
    "y = (1) \n",
    "print('y =',y,type(y))\n",
    "\n",
    "z = {1},{2}\n",
    "print('z =',z,type(z))\n",
    "\n",
    "n1 = [1,2,3,5,4,['welcome'],{},'hello',9][5]\n",
    "print('n1 =',n1,type(n1))\n"
   ]
  }
 ],
 "metadata": {
  "kernelspec": {
   "display_name": "Python 3",
   "language": "python",
   "name": "python3"
  },
  "language_info": {
   "codemirror_mode": {
    "name": "ipython",
    "version": 3
   },
   "file_extension": ".py",
   "mimetype": "text/x-python",
   "name": "python",
   "nbconvert_exporter": "python",
   "pygments_lexer": "ipython3",
   "version": "3.12.6"
  }
 },
 "nbformat": 4,
 "nbformat_minor": 2
}
